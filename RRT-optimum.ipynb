{
 "cells": [
  {
   "cell_type": "code",
   "execution_count": 1,
   "id": "78c51f66",
   "metadata": {},
   "outputs": [],
   "source": [
    "import numpy as np\n",
    "import heapq \n",
    "import matplotlib.pyplot as plt\n",
    "import seaborn as sns\n",
    "import time\n",
    "import queue\n",
    "import heapq\n",
    "from collections import defaultdict"
   ]
  },
  {
   "cell_type": "code",
   "execution_count": 2,
   "id": "0c48607d",
   "metadata": {},
   "outputs": [],
   "source": [
    "from skimage.draw import line_nd, random_shapes"
   ]
  },
  {
   "cell_type": "code",
   "execution_count": null,
   "id": "0dc35275",
   "metadata": {},
   "outputs": [],
   "source": []
  },
  {
   "cell_type": "code",
   "execution_count": null,
   "id": "c880d33f",
   "metadata": {},
   "outputs": [],
   "source": [
    "    "
   ]
  },
  {
   "cell_type": "code",
   "execution_count": 3,
   "id": "101c86d3",
   "metadata": {},
   "outputs": [],
   "source": [
    "from skimage.draw import line_nd, random_shapes\n",
    "import queue\n",
    "import heapq\n",
    "from collections import defaultdict\n",
    "\n",
    "class RRT:\n",
    "\n",
    "    def __init__(self, map_):\n",
    "        self.map_ = map_\n",
    "        self.nr = map_.shape[0]\n",
    "        self.nc = map_.shape[1]\n",
    "        self.dL = 10\n",
    "        self.kmax = 500\n",
    "        \n",
    "    def resetDL(self, dL):\n",
    "        self.dL = dL\n",
    "        \n",
    "    def resetKmax(self, val):\n",
    "        self.kmax = val\n",
    "    def resetMap(self, map_):\n",
    "        self.map_[:,:] = map_[:,:]\n",
    "        \n",
    "\n",
    "    def setRandomQ(self):\n",
    "        \n",
    "        rr = np.random.randint(self.nr)\n",
    "        rc = np.random.randint(self.nc)\n",
    "        \n",
    "        return (rr, rc)\n",
    "    \n",
    "    \n",
    "    \n",
    "    def getNewPoint(self, p, q):\n",
    "        \n",
    "        dx = q[0] - p[0]\n",
    "        dy = q[1] - p[1]\n",
    "        \n",
    "        L = np.sqrt(dx**2 + dy**2)\n",
    "        \n",
    "        if L == 0:\n",
    "            return p\n",
    "            \n",
    "        \n",
    "    \n",
    "        ratio = self.dL/L\n",
    "        \n",
    "        if ratio > 1:\n",
    "            return q\n",
    "        \n",
    "        vx = dx*ratio\n",
    "        vy = dy*ratio\n",
    "        \n",
    "        newx = p[0] + vx\n",
    "        newy = p[1] + vy\n",
    "        \n",
    "        newx_int = int(np.round(newx))\n",
    "        newy_int = int(np.round(newy))\n",
    "        \n",
    "        return (newx_int, newy_int)\n",
    "    \n",
    "    def calDistance(self, q1, q2):\n",
    "        dist = (q1[0] - q2[0])**2 + (q1[1] - q2[1])**2\n",
    "        return np.sqrt(dist)\n",
    "    \n",
    "    def findNearestQ(self, G, q):\n",
    "        \n",
    "        min_dist = 100000.\n",
    "        \n",
    "        p_near = None\n",
    "        for p in G.keys():\n",
    "            dist = self.calDistance(p, q)\n",
    "            \n",
    "            if dist < min_dist:\n",
    "                p_near = p\n",
    "                min_dist = dist\n",
    "    \n",
    "        \n",
    "        return p_near\n",
    "                \n",
    "    def drawLine(self, p1, p2):\n",
    "        return line_nd(p1,p2,integer=True)\n",
    "    \n",
    "    def noCollision(self, xline, yline):\n",
    "        \n",
    "        for i in range(xline.shape[0]):\n",
    "            if not self.map_[xline[i], yline[i]]:\n",
    "                return False\n",
    "            \n",
    "            \n",
    "        return True\n",
    "    \n",
    "    \n",
    "    def A_star(self, start, goal, G):\n",
    "\n",
    "        distances=defaultdict(lambda:float(\"inf\"))\n",
    "\n",
    "        Q = []\n",
    "        heapq.heapify(Q)    \n",
    "\n",
    "        cost = 0 + self.calDistance(start, goal)\n",
    "\n",
    "        heapq.heappush(Q, (cost, 0, start))\n",
    "\n",
    "        distances[start] = cost\n",
    "        parent = {}\n",
    "\n",
    "        visited = {}\n",
    "        for key in G.keys():\n",
    "            visited[key]=False\n",
    "\n",
    "        current_node = start\n",
    "\n",
    "        while not((len(Q) <= 0) or (current_node == goal)):\n",
    "            cost, current_dist, current_node = heapq.heappop(Q)    \n",
    "            visited[current_node] = True\n",
    "\n",
    "            neighbours = G[current_node]\n",
    "\n",
    "            for neigh in neighbours:\n",
    "\n",
    "                if (not visited[neigh]):\n",
    "                    dL = RT.dL\n",
    "                    next_dist = current_dist + dL \n",
    "                    next_cost = next_dist + self.calDistance(neigh, goal)\n",
    "                    if next_dist < distances[neigh]: \n",
    "                        distances[neigh] = next_dist\n",
    "                        heapq.heappush(Q, (next_cost, next_dist, neigh))\n",
    "                        parent[neigh] = current_node\n",
    "\n",
    "        if current_node != goal:\n",
    "            return None#, None\n",
    "\n",
    "        route = []\n",
    "        cn = goal\n",
    "        while cn != start:\n",
    "            route.append(cn)\n",
    "            cn = parent[cn]\n",
    "\n",
    "        route.append(cn)\n",
    "        return route[::-1] #, visited\n",
    "    \n",
    "    \n",
    "    def execute(self, start, goal):\n",
    "        \n",
    "        G={start : []}\n",
    " \n",
    "        newP = start\n",
    "        k = 0\n",
    "        while not((k > self.kmax) or (newP == goal)):\n",
    "            \n",
    "            #find random poin\n",
    "            q = self.setRandomQ()\n",
    "            if np.random.rand()< 0.1:\n",
    "                q = goal\n",
    "            \n",
    "            #nearest point to q in G\n",
    "            \n",
    "            nearestP = self.findNearestQ(G, q)\n",
    "            \n",
    "            newP = self.getNewPoint(nearestP, q)\n",
    "            \n",
    "            #newP is close to the goal?\n",
    "            distToGoal = self.calDistance(newP, goal)\n",
    "            if distToGoal < self.dL/2:\n",
    "                newP = goal\n",
    "            \n",
    "            #draw line\n",
    "            xline, yline = self.drawLine(nearestP, newP)\n",
    "            \n",
    "            #check collision\n",
    "            check = self.noCollision(xline, yline)\n",
    "            \n",
    "            if check:\n",
    "                G[nearestP].append(newP)\n",
    "                G[newP] = []\n",
    "            \n",
    "            k += 1\n",
    "            \n",
    "        route = self.A_star(start, goal, G)\n",
    "                \n",
    "        return route, G\n"
   ]
  },
  {
   "cell_type": "code",
   "execution_count": 4,
   "id": "2a78b456",
   "metadata": {},
   "outputs": [],
   "source": [
    "map_, labels = random_shapes((200,300),20,5,num_channels=1)"
   ]
  },
  {
   "cell_type": "code",
   "execution_count": 5,
   "id": "2419275b",
   "metadata": {},
   "outputs": [],
   "source": [
    "RT = RRT(map_ == 255)\n",
    "RT.resetDL(30)\n",
    "RT.resetKmax(5000)"
   ]
  },
  {
   "cell_type": "code",
   "execution_count": 7,
   "id": "a22f89f9",
   "metadata": {},
   "outputs": [
    {
     "data": {
      "text/plain": [
       "((100, 150), (168, 15))"
      ]
     },
     "execution_count": 7,
     "metadata": {},
     "output_type": "execute_result"
    }
   ],
   "source": [
    "np.random.seed(2)\n",
    "qstart = (100,150)\n",
    "qgoal = (np.random.randint(0,len(map_)),np.random.randint(0,len(map_[0])))\n",
    "qstart, qgoal"
   ]
  },
  {
   "cell_type": "code",
   "execution_count": 206,
   "id": "641c6437",
   "metadata": {},
   "outputs": [],
   "source": [
    "route, G = RT.execute(qstart, qgoal)"
   ]
  },
  {
   "cell_type": "code",
   "execution_count": 207,
   "id": "b9776705",
   "metadata": {},
   "outputs": [
    {
     "data": {
      "text/plain": [
       "35"
      ]
     },
     "execution_count": 207,
     "metadata": {},
     "output_type": "execute_result"
    }
   ],
   "source": [
    "len(G)"
   ]
  },
  {
   "cell_type": "code",
   "execution_count": 208,
   "id": "ff833dc4",
   "metadata": {},
   "outputs": [
    {
     "data": {
      "text/plain": [
       "0.18161125142253787"
      ]
     },
     "execution_count": 208,
     "metadata": {},
     "output_type": "execute_result"
    }
   ],
   "source": [
    "np.random.rand()"
   ]
  },
  {
   "cell_type": "code",
   "execution_count": 209,
   "id": "de19bac6",
   "metadata": {},
   "outputs": [
    {
     "data": {
      "text/plain": [
       "12"
      ]
     },
     "execution_count": 209,
     "metadata": {},
     "output_type": "execute_result"
    }
   ],
   "source": [
    "len(route)"
   ]
  },
  {
   "cell_type": "code",
   "execution_count": 210,
   "id": "17f81cd2",
   "metadata": {},
   "outputs": [
    {
     "data": {
      "text/plain": [
       "[<matplotlib.lines.Line2D at 0x16e0f41a4f0>]"
      ]
     },
     "execution_count": 210,
     "metadata": {},
     "output_type": "execute_result"
    },
    {
     "data": {
      "image/png": "[encoded data removed]",
      "text/plain": [
       "<Figure size 576x432 with 1 Axes>"
      ]
     },
     "metadata": {
      "needs_background": "light"
     },
     "output_type": "display_data"
    }
   ],
   "source": [
    "fig, ax = plt.subplots(figsize = (8,6))\n",
    "map2 = map_.copy()\n",
    "\n",
    "plt.imshow(map2, cmap = \"gray\")\n",
    "\n",
    "\n",
    "for point in G.keys():\n",
    "    plt.plot(point[1], point[0], \"y.\")\n",
    "    \n",
    "\n",
    "for key in G.keys():\n",
    "    p1 = key\n",
    "    \n",
    "    for p2 in G[p1]:\n",
    "        if p2 != []:\n",
    "            plt.plot([p1[1], p2[1]], [p1[0], p2[0]], color = \"gray\", lw = 0.5, alpha = 0.7)\n",
    "\n",
    "\n",
    "for point in route:\n",
    "    plt.plot(point[1], point[0], \"g*\")\n",
    "    \n",
    "\n",
    "\n",
    "plt.plot(qstart[1], qstart[0], \"b*\")\n",
    "plt.plot(qgoal[1], qgoal[0], \"r*\")\n"
   ]
  },
  {
   "cell_type": "code",
   "execution_count": null,
   "id": "93b12f66",
   "metadata": {},
   "outputs": [],
   "source": []
  }
 ],
 "metadata": {
  "kernelspec": {
   "display_name": "Python 3 (ipykernel)",
   "language": "python",
   "name": "python3"
  },
  "language_info": {
   "codemirror_mode": {
    "name": "ipython",
    "version": 3
   },
   "file_extension": ".py",
   "mimetype": "text/x-python",
   "name": "python",
   "nbconvert_exporter": "python",
   "pygments_lexer": "ipython3",
   "version": "3.9.7"
  }
 },
 "nbformat": 4,
 "nbformat_minor": 5
}
